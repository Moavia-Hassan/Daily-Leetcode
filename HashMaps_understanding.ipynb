{
  "nbformat": 4,
  "nbformat_minor": 0,
  "metadata": {
    "colab": {
      "provenance": [],
      "authorship_tag": "ABX9TyPOGjd+A4JuPE7iI6QXXsDM",
      "include_colab_link": true
    },
    "kernelspec": {
      "name": "python3",
      "display_name": "Python 3"
    },
    "language_info": {
      "name": "python"
    }
  },
  "cells": [
    {
      "cell_type": "markdown",
      "metadata": {
        "id": "view-in-github",
        "colab_type": "text"
      },
      "source": [
        "<a href=\"https://colab.research.google.com/github/Moavia-Hassan/Daily-Leetcode/blob/main/HashMaps_understanding.ipynb\" target=\"_parent\"><img src=\"https://colab.research.google.com/assets/colab-badge.svg\" alt=\"Open In Colab\"/></a>"
      ]
    },
    {
      "cell_type": "code",
      "execution_count": 1,
      "metadata": {
        "id": "RLCNpCnutV6b"
      },
      "outputs": [],
      "source": [
        "class MyHashMap:\n",
        "    def __init__(self):\n",
        "        self.size = 1000\n",
        "        self.buckets = [[] for _ in range(self.size)]\n",
        "\n",
        "    def _hash(self, key):\n",
        "        return key % self.size\n",
        "\n",
        "    def put(self, key, value):\n",
        "        index = self._hash(key)\n",
        "        for i, (k, v) in enumerate(self.buckets[index]):\n",
        "            if k == key:\n",
        "                self.buckets[index][i] = (key, value)\n",
        "                return\n",
        "        self.buckets[index].append((key, value))\n",
        "\n",
        "    def get(self, key):\n",
        "        index = self._hash(key)\n",
        "        for k, v in self.buckets[index]:\n",
        "            if k == key:\n",
        "                return v\n",
        "        return -1\n",
        "\n",
        "    def remove(self, key):\n",
        "        index = self._hash(key)\n",
        "        for i, (k, v) in enumerate(self.buckets[index]):\n",
        "            if k == key:\n",
        "                del self.buckets[index][i]\n",
        "                return"
      ]
    }
  ]
}